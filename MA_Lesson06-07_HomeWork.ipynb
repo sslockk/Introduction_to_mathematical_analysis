{
 "cells": [
  {
   "cell_type": "markdown",
   "metadata": {},
   "source": [
    "### Дифференциальное исчисление"
   ]
  },
  {
   "cell_type": "markdown",
   "metadata": {},
   "source": [
    "1) Найти производную выражения: sin(x)*cos(x)"
   ]
  },
  {
   "cell_type": "markdown",
   "metadata": {},
   "source": [
    "Ответ:"
   ]
  },
  {
   "cell_type": "markdown",
   "metadata": {},
   "source": [
    "-cos(x)*sin(x)"
   ]
  },
  {
   "cell_type": "markdown",
   "metadata": {},
   "source": [
    "2) Найти производную выражения: ln(2x+1)^3"
   ]
  },
  {
   "cell_type": "markdown",
   "metadata": {},
   "source": [
    "Ответ:"
   ]
  },
  {
   "cell_type": "markdown",
   "metadata": {},
   "source": [
    "(1/(2x+1)^3)*(3*(2x+1)^2)*(2*1+0) = (6 * (2x + 1)^2) / (2x + 1)^3) = 4*x+2"
   ]
  },
  {
   "cell_type": "markdown",
   "metadata": {},
   "source": [
    "3) Найти производную выражения: sqrt(sin^2(ln(x^3))"
   ]
  },
  {
   "cell_type": "markdown",
   "metadata": {},
   "source": [
    "Ответ:"
   ]
  },
  {
   "cell_type": "markdown",
   "metadata": {},
   "source": [
    "(1/2*(sin^2(ln(x^3))) * (2*(sin(ln(x^3)) * (cos(ln(x^3)) * (1/x^3) * (3*x^2)) = 3 * sin(2 * ln(x^3) / (2 * x * sin(ln(x^3))"
   ]
  },
  {
   "cell_type": "markdown",
   "metadata": {},
   "source": [
    "4) Найти выражение производной функции и ее значение в точке. f(x)=cos(x^2+3x), x0=sqrt(Пи)\n"
   ]
  },
  {
   "cell_type": "markdown",
   "metadata": {},
   "source": [
    "Ответ:"
   ]
  },
  {
   "cell_type": "markdown",
   "metadata": {},
   "source": [
    "Найдем производную -sin(x^2+3x) * (2x + 3)"
   ]
  },
  {
   "cell_type": "code",
   "execution_count": 1,
   "metadata": {},
   "outputs": [],
   "source": [
    "import numpy as np"
   ]
  },
  {
   "cell_type": "code",
   "execution_count": 5,
   "metadata": {},
   "outputs": [
    {
     "data": {
      "text/plain": [
       "-3.9945659353167433"
      ]
     },
     "execution_count": 5,
     "metadata": {},
     "output_type": "execute_result"
    }
   ],
   "source": [
    "# Производная  в точке f(x0)\n",
    "x = np.pi\n",
    "-np.sin(x**2 + 3 * x) * (2 * x + 3)"
   ]
  },
  {
   "cell_type": "markdown",
   "metadata": {},
   "source": [
    "5) Найти выражение производной функции и ее значение в точке. f(x)=(x^3-x^2-x-1)/(1+2x+3x^2-4x^3), x0=0\n"
   ]
  },
  {
   "cell_type": "markdown",
   "metadata": {},
   "source": [
    "Ответ:"
   ]
  },
  {
   "cell_type": "markdown",
   "metadata": {},
   "source": [
    "Найдем производную\n",
    "(3x^2-2x-1)*(-1/(1+2x+3x^2-4x^3)^2)*(2+6x-12x^2)\n",
    "\n",
    "Производная  в точке f(x0) = -1*(-1/1)*2 = 2"
   ]
  },
  {
   "cell_type": "markdown",
   "metadata": {},
   "source": [
    "6) Найти угол наклона касательной к графику функции в точке f(x)=sqrt(3x)*ln(x), x0=1"
   ]
  },
  {
   "cell_type": "markdown",
   "metadata": {},
   "source": [
    "Ответ:"
   ]
  },
  {
   "cell_type": "markdown",
   "metadata": {},
   "source": [
    "Найдем производную\n",
    "(-1/3x) * (3) * (1/x) = -3/x^2,\n",
    "f(x0) = -3,\n",
    "tg(alfa) = -3,\n",
    "Угол наклона alfa = -71,565"
   ]
  },
  {
   "cell_type": "markdown",
   "metadata": {},
   "source": [
    "### Ряды"
   ]
  },
  {
   "cell_type": "markdown",
   "metadata": {},
   "source": [
    "1) Исследовать ряд на сходимость, используя признак д’Аламбера n^n/(n!)^2, n стремиться к 1"
   ]
  },
  {
   "cell_type": "markdown",
   "metadata": {},
   "source": [
    "Ответ:"
   ]
  },
  {
   "cell_type": "markdown",
   "metadata": {},
   "source": [
    "Рассмотрим f(n+1) деленную f(n) при n стремящемуся к бесконечности\n",
    "((n+1)^(n+1)/((n+1)!)^2) / n^n/(n!)^2 = ((n+1)^n*(n+1)*(n!)^2) / ((n!)^2*(n+1)^2*n^n) = ((n+1)^(n-1)) / (n^n)\n",
    "При подсатновке бесконечности в знаменателе степень больше, поэтому ряд стремиться к нулю. По признаку дАламбера ряд сходиться"
   ]
  },
  {
   "cell_type": "markdown",
   "metadata": {},
   "source": [
    "2) Исследовать ряд на сходимость, радикальный признак Коши n/2^n, n стремиться к 1"
   ]
  },
  {
   "cell_type": "markdown",
   "metadata": {},
   "source": [
    "Ответ:"
   ]
  },
  {
   "cell_type": "markdown",
   "metadata": {},
   "source": [
    "По условию радикального признака Коши, найдем чему равно выражение при n стремящемуся к бесконечности\n",
    "(n/2^n)^1/n = n^(1/n) / 2 = 1/2 ,\n",
    "1/2 < 1 то, по условию радикального признака Коши, ряд сходиться.\n"
   ]
  },
  {
   "cell_type": "markdown",
   "metadata": {},
   "source": [
    "3) Исследовать ряд на сходимость, используя признак Лейбница (-1)^n / (n+ln(n)), n стремиться к 1"
   ]
  },
  {
   "cell_type": "markdown",
   "metadata": {},
   "source": [
    "Ответ:"
   ]
  },
  {
   "cell_type": "markdown",
   "metadata": {},
   "source": [
    "Первое условие - рядявляется знакочередующимся. Выполняеться.\n",
    "Второе условие - ряд по модулю стремиться к нулю при n стремящемуся к бесконечности. 1/бесконечность = 0.\n",
    "Оба условия выполняються, значит ряд сходиться\n",
    "\n"
   ]
  },
  {
   "cell_type": "markdown",
   "metadata": {},
   "source": [
    "4) Исследовать ряд на сходимость, используя признак Раабе 3^n / 2^n, n стремиться к 1"
   ]
  },
  {
   "cell_type": "markdown",
   "metadata": {},
   "source": [
    "Ответ:"
   ]
  },
  {
   "cell_type": "markdown",
   "metadata": {},
   "source": [
    "По признаку Раабе n(( 3^n / 2^n) /  (3^(n+1) / 2^(n+1)) - 1) = n((3^n * 2^(n+1)) / (2^n * (3^(n+1)) - 1) = \n",
    "n((3^n * 2^n * 2)) / (2^n * 3^n * 3)) - 1) = n(2/3 - 1) = -n/3 = -бесконечность. Значит ряд расходиться"
   ]
  },
  {
   "cell_type": "markdown",
   "metadata": {},
   "source": [
    "5) Разложить функцию по Тейлору в единице f(x) = ln(16x^2)"
   ]
  },
  {
   "cell_type": "markdown",
   "metadata": {},
   "source": [
    "Ответ:"
   ]
  },
  {
   "cell_type": "markdown",
   "metadata": {},
   "source": [
    "ln(16x^2) = ln(16x^2 -x + 1) + (x-1)/16 * x^2-x+1 - (x-1)^2 / (32 * x^2 -x +1) + (x-1)^3 / (48 * x^2 -x+1) - (x-1)^4 / (64 * x^2-x+1) + (x-1)^5 / (80*x^2 -x+1) -...."
   ]
  },
  {
   "cell_type": "code",
   "execution_count": null,
   "metadata": {},
   "outputs": [],
   "source": []
  }
 ],
 "metadata": {
  "kernelspec": {
   "display_name": "Python 3",
   "language": "python",
   "name": "python3"
  },
  "language_info": {
   "codemirror_mode": {
    "name": "ipython",
    "version": 3
   },
   "file_extension": ".py",
   "mimetype": "text/x-python",
   "name": "python",
   "nbconvert_exporter": "python",
   "pygments_lexer": "ipython3",
   "version": "3.7.1"
  }
 },
 "nbformat": 4,
 "nbformat_minor": 2
}
